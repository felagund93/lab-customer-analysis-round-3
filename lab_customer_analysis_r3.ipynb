{
 "cells": [
  {
   "cell_type": "code",
   "execution_count": 2,
   "id": "d6815ef3",
   "metadata": {},
   "outputs": [],
   "source": [
    "import pandas as pd\n",
    "import numpy as np\n",
    "import matplotlib.pyplot as plt\n",
    "import seaborn as sns\n",
    "import scipy.stats as stats"
   ]
  },
  {
   "cell_type": "code",
   "execution_count": 3,
   "id": "a31ad332",
   "metadata": {},
   "outputs": [],
   "source": [
    "df = pd.read_csv('files_for_lab/csv_files/marketing_customer_analysis.csv')\n",
    "#df.info()"
   ]
  },
  {
   "cell_type": "code",
   "execution_count": 4,
   "id": "66d5d40b",
   "metadata": {},
   "outputs": [],
   "source": [
    "def col_names_std(df):\n",
    "    import pandas as pd\n",
    "    import numpy as np\n",
    "    df.columns = [df.columns[i].lower().replace(' ','_') for i in range(len(df.columns))]\n",
    "    return df\n",
    "\n",
    "df=col_names_std(df)"
   ]
  },
  {
   "cell_type": "code",
   "execution_count": 5,
   "id": "e7f2fa54",
   "metadata": {},
   "outputs": [
    {
     "data": {
      "text/html": [
       "<div>\n",
       "<style scoped>\n",
       "    .dataframe tbody tr th:only-of-type {\n",
       "        vertical-align: middle;\n",
       "    }\n",
       "\n",
       "    .dataframe tbody tr th {\n",
       "        vertical-align: top;\n",
       "    }\n",
       "\n",
       "    .dataframe thead th {\n",
       "        text-align: right;\n",
       "    }\n",
       "</style>\n",
       "<table border=\"1\" class=\"dataframe\">\n",
       "  <thead>\n",
       "    <tr style=\"text-align: right;\">\n",
       "      <th></th>\n",
       "      <th>count</th>\n",
       "      <th>mean</th>\n",
       "      <th>std</th>\n",
       "      <th>min</th>\n",
       "      <th>25%</th>\n",
       "      <th>50%</th>\n",
       "      <th>75%</th>\n",
       "      <th>max</th>\n",
       "      <th>iqr</th>\n",
       "    </tr>\n",
       "  </thead>\n",
       "  <tbody>\n",
       "    <tr>\n",
       "      <th>customer_lifetime_value</th>\n",
       "      <td>9134.0</td>\n",
       "      <td>8004.94</td>\n",
       "      <td>6870.97</td>\n",
       "      <td>1898.01</td>\n",
       "      <td>3994.25</td>\n",
       "      <td>5780.18</td>\n",
       "      <td>8962.17</td>\n",
       "      <td>83325.38</td>\n",
       "      <td>4967.92</td>\n",
       "    </tr>\n",
       "    <tr>\n",
       "      <th>income</th>\n",
       "      <td>9134.0</td>\n",
       "      <td>37657.38</td>\n",
       "      <td>30379.90</td>\n",
       "      <td>0.00</td>\n",
       "      <td>0.00</td>\n",
       "      <td>33889.50</td>\n",
       "      <td>62320.00</td>\n",
       "      <td>99981.00</td>\n",
       "      <td>62320.00</td>\n",
       "    </tr>\n",
       "    <tr>\n",
       "      <th>monthly_premium_auto</th>\n",
       "      <td>9134.0</td>\n",
       "      <td>93.22</td>\n",
       "      <td>34.41</td>\n",
       "      <td>61.00</td>\n",
       "      <td>68.00</td>\n",
       "      <td>83.00</td>\n",
       "      <td>109.00</td>\n",
       "      <td>298.00</td>\n",
       "      <td>41.00</td>\n",
       "    </tr>\n",
       "    <tr>\n",
       "      <th>months_since_last_claim</th>\n",
       "      <td>9134.0</td>\n",
       "      <td>15.10</td>\n",
       "      <td>10.07</td>\n",
       "      <td>0.00</td>\n",
       "      <td>6.00</td>\n",
       "      <td>14.00</td>\n",
       "      <td>23.00</td>\n",
       "      <td>35.00</td>\n",
       "      <td>17.00</td>\n",
       "    </tr>\n",
       "    <tr>\n",
       "      <th>months_since_policy_inception</th>\n",
       "      <td>9134.0</td>\n",
       "      <td>48.06</td>\n",
       "      <td>27.91</td>\n",
       "      <td>0.00</td>\n",
       "      <td>24.00</td>\n",
       "      <td>48.00</td>\n",
       "      <td>71.00</td>\n",
       "      <td>99.00</td>\n",
       "      <td>47.00</td>\n",
       "    </tr>\n",
       "    <tr>\n",
       "      <th>number_of_open_complaints</th>\n",
       "      <td>9134.0</td>\n",
       "      <td>0.38</td>\n",
       "      <td>0.91</td>\n",
       "      <td>0.00</td>\n",
       "      <td>0.00</td>\n",
       "      <td>0.00</td>\n",
       "      <td>0.00</td>\n",
       "      <td>5.00</td>\n",
       "      <td>0.00</td>\n",
       "    </tr>\n",
       "    <tr>\n",
       "      <th>number_of_policies</th>\n",
       "      <td>9134.0</td>\n",
       "      <td>2.97</td>\n",
       "      <td>2.39</td>\n",
       "      <td>1.00</td>\n",
       "      <td>1.00</td>\n",
       "      <td>2.00</td>\n",
       "      <td>4.00</td>\n",
       "      <td>9.00</td>\n",
       "      <td>3.00</td>\n",
       "    </tr>\n",
       "    <tr>\n",
       "      <th>total_claim_amount</th>\n",
       "      <td>9134.0</td>\n",
       "      <td>434.09</td>\n",
       "      <td>290.50</td>\n",
       "      <td>0.10</td>\n",
       "      <td>272.26</td>\n",
       "      <td>383.95</td>\n",
       "      <td>547.51</td>\n",
       "      <td>2893.24</td>\n",
       "      <td>275.26</td>\n",
       "    </tr>\n",
       "  </tbody>\n",
       "</table>\n",
       "</div>"
      ],
      "text/plain": [
       "                                count      mean       std      min      25%  \\\n",
       "customer_lifetime_value        9134.0   8004.94   6870.97  1898.01  3994.25   \n",
       "income                         9134.0  37657.38  30379.90     0.00     0.00   \n",
       "monthly_premium_auto           9134.0     93.22     34.41    61.00    68.00   \n",
       "months_since_last_claim        9134.0     15.10     10.07     0.00     6.00   \n",
       "months_since_policy_inception  9134.0     48.06     27.91     0.00    24.00   \n",
       "number_of_open_complaints      9134.0      0.38      0.91     0.00     0.00   \n",
       "number_of_policies             9134.0      2.97      2.39     1.00     1.00   \n",
       "total_claim_amount             9134.0    434.09    290.50     0.10   272.26   \n",
       "\n",
       "                                    50%       75%       max       iqr  \n",
       "customer_lifetime_value         5780.18   8962.17  83325.38   4967.92  \n",
       "income                         33889.50  62320.00  99981.00  62320.00  \n",
       "monthly_premium_auto              83.00    109.00    298.00     41.00  \n",
       "months_since_last_claim           14.00     23.00     35.00     17.00  \n",
       "months_since_policy_inception     48.00     71.00     99.00     47.00  \n",
       "number_of_open_complaints          0.00      0.00      5.00      0.00  \n",
       "number_of_policies                 2.00      4.00      9.00      3.00  \n",
       "total_claim_amount               383.95    547.51   2893.24    275.26  "
      ]
     },
     "metadata": {},
     "output_type": "display_data"
    }
   ],
   "source": [
    "summary = df.describe().T #returns a dataframe with which I can work, and '.T' transposes it\n",
    "summary['iqr'] = summary['75%']-summary['25%'] #addition of the iqr -inter quantile range- column\n",
    "summary = summary.apply(lambda x: round(x, 2))\n",
    "display(summary) #it shows the table in a more nice way"
   ]
  },
  {
   "cell_type": "code",
   "execution_count": 6,
   "id": "da3c7c9d",
   "metadata": {},
   "outputs": [],
   "source": [
    "#- Show a plot of the total number of responses.\n",
    "#- Show a plot of the response rate by the sales channel.\n",
    "#- Show a plot of the response rate by the total claim amount.\n",
    "#- Show a plot of the response rate by income."
   ]
  },
  {
   "cell_type": "code",
   "execution_count": 7,
   "id": "2b18d908",
   "metadata": {},
   "outputs": [
    {
     "data": {
      "image/png": "[encoded data removed]",
      "text/plain": [
       "<Figure size 432x288 with 1 Axes>"
      ]
     },
     "metadata": {
      "needs_background": "light"
     },
     "output_type": "display_data"
    }
   ],
   "source": [
    "plot1 = df['response'].value_counts().plot(kind='bar', title=\"Total number of responses\")\n",
    "                                    #figsize=(8,8),\n",
    "                                    #title=\"Total number of responses\")\n",
    "plt.show()"
   ]
  },
  {
   "cell_type": "code",
   "execution_count": 8,
   "id": "f5c4d546",
   "metadata": {
    "scrolled": true
   },
   "outputs": [
    {
     "data": {
      "text/html": [
       "<div>\n",
       "<style scoped>\n",
       "    .dataframe tbody tr th:only-of-type {\n",
       "        vertical-align: middle;\n",
       "    }\n",
       "\n",
       "    .dataframe tbody tr th {\n",
       "        vertical-align: top;\n",
       "    }\n",
       "\n",
       "    .dataframe thead th {\n",
       "        text-align: right;\n",
       "    }\n",
       "</style>\n",
       "<table border=\"1\" class=\"dataframe\">\n",
       "  <thead>\n",
       "    <tr style=\"text-align: right;\">\n",
       "      <th>response_bool</th>\n",
       "      <th>0</th>\n",
       "      <th>1</th>\n",
       "    </tr>\n",
       "    <tr>\n",
       "      <th>sales_channel</th>\n",
       "      <th></th>\n",
       "      <th></th>\n",
       "    </tr>\n",
       "  </thead>\n",
       "  <tbody>\n",
       "    <tr>\n",
       "      <th>Agent</th>\n",
       "      <td>0.808456</td>\n",
       "      <td>0.191544</td>\n",
       "    </tr>\n",
       "    <tr>\n",
       "      <th>Branch</th>\n",
       "      <td>0.885469</td>\n",
       "      <td>0.114531</td>\n",
       "    </tr>\n",
       "    <tr>\n",
       "      <th>Call Center</th>\n",
       "      <td>0.891218</td>\n",
       "      <td>0.108782</td>\n",
       "    </tr>\n",
       "    <tr>\n",
       "      <th>Web</th>\n",
       "      <td>0.882264</td>\n",
       "      <td>0.117736</td>\n",
       "    </tr>\n",
       "  </tbody>\n",
       "</table>\n",
       "</div>"
      ],
      "text/plain": [
       "response_bool         0         1\n",
       "sales_channel                    \n",
       "Agent          0.808456  0.191544\n",
       "Branch         0.885469  0.114531\n",
       "Call Center    0.891218  0.108782\n",
       "Web            0.882264  0.117736"
      ]
     },
     "metadata": {},
     "output_type": "display_data"
    },
    {
     "data": {
      "image/png": "[encoded data removed]",
      "text/plain": [
       "<Figure size 432x288 with 1 Axes>"
      ]
     },
     "metadata": {
      "needs_background": "light"
     },
     "output_type": "display_data"
    },
    {
     "data": {
      "text/plain": [
       "<AxesSubplot:xlabel='sales_channel', ylabel='count'>"
      ]
     },
     "execution_count": 8,
     "metadata": {},
     "output_type": "execute_result"
    },
    {
     "data": {
      "image/png": "[encoded data removed]",
      "text/plain": [
       "<Figure size 432x288 with 1 Axes>"
      ]
     },
     "metadata": {
      "needs_background": "light"
     },
     "output_type": "display_data"
    }
   ],
   "source": [
    "#Convert to boolean\n",
    "df['response_bool']=df.response.replace(('Yes', 'No'), (1, 0))\n",
    "#df.groupby(['sales_channel', 'response'], as_index=True)['sales_channel'].count()\n",
    "                                                                #.reset_index()#.plot(kind='bar')\n",
    "df_rr_by_sales = pd.crosstab(df['sales_channel'], df['response_bool']).apply(lambda x: x/x.sum(), axis=1)\n",
    "\n",
    "display(df_rr_by_sales)\n",
    "\n",
    "# multiple plots in the same space\n",
    "#fig, axs = plt.subplots(2, 2)\n",
    "\n",
    "#You pass these two dummy variables\n",
    "#Inside the parenthesis you write the rows x columns\n",
    "\n",
    "plot2=df_rr_by_sales[1].plot(kind='bar', title=\"Response rate by Sales channel\", \n",
    "                       xlabel='Sales channel', ylabel='Response rate')\n",
    "\n",
    "plt.show()\n",
    "\n",
    "sns.countplot(data=df, x='sales_channel', hue='response')\n",
    "\n",
    "#sns.histplot(data=df, x='sales_channel', hue='response', stat='probability')"
   ]
  },
  {
   "cell_type": "code",
   "execution_count": 12,
   "id": "96eeee63",
   "metadata": {},
   "outputs": [
    {
     "data": {
      "image/png": "[encoded data removed]",
      "text/plain": [
       "<Figure size 432x288 with 1 Axes>"
      ]
     },
     "metadata": {
      "needs_background": "light"
     },
     "output_type": "display_data"
    }
   ],
   "source": [
    "df_2 = df.groupby(['sales_channel'])['response_bool'].mean()\n",
    "df_2.plot(kind='bar', title=\"Response rate by Sales channel\", \n",
    "                       xlabel='Sales channel', ylabel='Response rate')\n",
    "\n",
    "plt.show()"
   ]
  },
  {
   "cell_type": "code",
   "execution_count": 33,
   "id": "388ef29e",
   "metadata": {},
   "outputs": [
    {
     "data": {
      "text/html": [
       "<div>\n",
       "<style scoped>\n",
       "    .dataframe tbody tr th:only-of-type {\n",
       "        vertical-align: middle;\n",
       "    }\n",
       "\n",
       "    .dataframe tbody tr th {\n",
       "        vertical-align: top;\n",
       "    }\n",
       "\n",
       "    .dataframe thead th {\n",
       "        text-align: right;\n",
       "    }\n",
       "</style>\n",
       "<table border=\"1\" class=\"dataframe\">\n",
       "  <thead>\n",
       "    <tr style=\"text-align: right;\">\n",
       "      <th>response</th>\n",
       "      <th>No</th>\n",
       "      <th>Yes</th>\n",
       "    </tr>\n",
       "    <tr>\n",
       "      <th>total_claim_binned</th>\n",
       "      <th></th>\n",
       "      <th></th>\n",
       "    </tr>\n",
       "  </thead>\n",
       "  <tbody>\n",
       "    <tr>\n",
       "      <th>(-0.001, 250.0]</th>\n",
       "      <td>0.245592</td>\n",
       "      <td>0.142202</td>\n",
       "    </tr>\n",
       "    <tr>\n",
       "      <th>(250.0, 500.0]</th>\n",
       "      <td>0.436366</td>\n",
       "      <td>0.509174</td>\n",
       "    </tr>\n",
       "    <tr>\n",
       "      <th>(500.0, 750.0]</th>\n",
       "      <td>0.203297</td>\n",
       "      <td>0.270642</td>\n",
       "    </tr>\n",
       "    <tr>\n",
       "      <th>(750.0, 1000.0]</th>\n",
       "      <td>0.070917</td>\n",
       "      <td>0.032110</td>\n",
       "    </tr>\n",
       "    <tr>\n",
       "      <th>(1000.0, 1250.0]</th>\n",
       "      <td>0.021467</td>\n",
       "      <td>0.022936</td>\n",
       "    </tr>\n",
       "    <tr>\n",
       "      <th>(1250.0, 1500.0]</th>\n",
       "      <td>0.013928</td>\n",
       "      <td>0.022936</td>\n",
       "    </tr>\n",
       "    <tr>\n",
       "      <th>(1500.0, 1750.0]</th>\n",
       "      <td>0.003322</td>\n",
       "      <td>0.000000</td>\n",
       "    </tr>\n",
       "    <tr>\n",
       "      <th>(1750.0, 2000.0]</th>\n",
       "      <td>0.002683</td>\n",
       "      <td>0.000000</td>\n",
       "    </tr>\n",
       "    <tr>\n",
       "      <th>(2000.0, 2250.0]</th>\n",
       "      <td>0.001150</td>\n",
       "      <td>0.000000</td>\n",
       "    </tr>\n",
       "    <tr>\n",
       "      <th>(2250.0, 2500.0]</th>\n",
       "      <td>0.000894</td>\n",
       "      <td>0.000000</td>\n",
       "    </tr>\n",
       "    <tr>\n",
       "      <th>(2500.0, 2750.0]</th>\n",
       "      <td>0.000128</td>\n",
       "      <td>0.000000</td>\n",
       "    </tr>\n",
       "    <tr>\n",
       "      <th>(2750.0, 3000.0]</th>\n",
       "      <td>0.000256</td>\n",
       "      <td>0.000000</td>\n",
       "    </tr>\n",
       "  </tbody>\n",
       "</table>\n",
       "</div>"
      ],
      "text/plain": [
       "response                  No       Yes\n",
       "total_claim_binned                    \n",
       "(-0.001, 250.0]     0.245592  0.142202\n",
       "(250.0, 500.0]      0.436366  0.509174\n",
       "(500.0, 750.0]      0.203297  0.270642\n",
       "(750.0, 1000.0]     0.070917  0.032110\n",
       "(1000.0, 1250.0]    0.021467  0.022936\n",
       "(1250.0, 1500.0]    0.013928  0.022936\n",
       "(1500.0, 1750.0]    0.003322  0.000000\n",
       "(1750.0, 2000.0]    0.002683  0.000000\n",
       "(2000.0, 2250.0]    0.001150  0.000000\n",
       "(2250.0, 2500.0]    0.000894  0.000000\n",
       "(2500.0, 2750.0]    0.000128  0.000000\n",
       "(2750.0, 3000.0]    0.000256  0.000000"
      ]
     },
     "metadata": {},
     "output_type": "display_data"
    },
    {
     "data": {
      "image/png": "[encoded data removed]",
      "text/plain": [
       "<Figure size 432x288 with 1 Axes>"
      ]
     },
     "metadata": {
      "needs_background": "light"
     },
     "output_type": "display_data"
    }
   ],
   "source": [
    "#I want bins of total claim amount in x-axis, and response rate in y-axis\n",
    "\n",
    "bins = np.arange(0,df['total_claim_amount'].max() + 250, 250)\n",
    "df['total_claim_binned'] = pd.cut(df['total_claim_amount'], bins, include_lowest=True)\n",
    "df_rr_by_tot_claim = pd.crosstab(df['response'], df['total_claim_binned']).apply(lambda x: x/x.sum(), axis=1).T\n",
    "\n",
    "display(df_rr_by_tot_claim)\n",
    "\n",
    "plot3=df_rr_by_tot_claim['Yes'].plot(kind='bar', title=\"Response rate by Total claim amount\", \n",
    "                       xlabel='Total Claim Amount', ylabel='Response rate')\n",
    "\n",
    "plt.show()"
   ]
  },
  {
   "cell_type": "code",
   "execution_count": 37,
   "id": "33cd3035",
   "metadata": {},
   "outputs": [
    {
     "data": {
      "text/html": [
       "<div>\n",
       "<style scoped>\n",
       "    .dataframe tbody tr th:only-of-type {\n",
       "        vertical-align: middle;\n",
       "    }\n",
       "\n",
       "    .dataframe tbody tr th {\n",
       "        vertical-align: top;\n",
       "    }\n",
       "\n",
       "    .dataframe thead th {\n",
       "        text-align: right;\n",
       "    }\n",
       "</style>\n",
       "<table border=\"1\" class=\"dataframe\">\n",
       "  <thead>\n",
       "    <tr style=\"text-align: right;\">\n",
       "      <th>response</th>\n",
       "      <th>No</th>\n",
       "      <th>Yes</th>\n",
       "    </tr>\n",
       "    <tr>\n",
       "      <th>income_binned</th>\n",
       "      <th></th>\n",
       "      <th></th>\n",
       "    </tr>\n",
       "  </thead>\n",
       "  <tbody>\n",
       "    <tr>\n",
       "      <th>(-0.001, 7500.0]</th>\n",
       "      <td>0.270764</td>\n",
       "      <td>0.151376</td>\n",
       "    </tr>\n",
       "    <tr>\n",
       "      <th>(7500.0, 15000.0]</th>\n",
       "      <td>0.019295</td>\n",
       "      <td>0.073394</td>\n",
       "    </tr>\n",
       "    <tr>\n",
       "      <th>(15000.0, 22500.0]</th>\n",
       "      <td>0.060951</td>\n",
       "      <td>0.100917</td>\n",
       "    </tr>\n",
       "    <tr>\n",
       "      <th>(22500.0, 30000.0]</th>\n",
       "      <td>0.106185</td>\n",
       "      <td>0.165138</td>\n",
       "    </tr>\n",
       "    <tr>\n",
       "      <th>(30000.0, 37500.0]</th>\n",
       "      <td>0.074879</td>\n",
       "      <td>0.068807</td>\n",
       "    </tr>\n",
       "    <tr>\n",
       "      <th>(37500.0, 45000.0]</th>\n",
       "      <td>0.071684</td>\n",
       "      <td>0.059633</td>\n",
       "    </tr>\n",
       "    <tr>\n",
       "      <th>(45000.0, 52500.0]</th>\n",
       "      <td>0.060567</td>\n",
       "      <td>0.041284</td>\n",
       "    </tr>\n",
       "    <tr>\n",
       "      <th>(52500.0, 60000.0]</th>\n",
       "      <td>0.063123</td>\n",
       "      <td>0.073394</td>\n",
       "    </tr>\n",
       "    <tr>\n",
       "      <th>(60000.0, 67500.0]</th>\n",
       "      <td>0.061334</td>\n",
       "      <td>0.073394</td>\n",
       "    </tr>\n",
       "    <tr>\n",
       "      <th>(67500.0, 75000.0]</th>\n",
       "      <td>0.060567</td>\n",
       "      <td>0.064220</td>\n",
       "    </tr>\n",
       "    <tr>\n",
       "      <th>(75000.0, 82500.0]</th>\n",
       "      <td>0.048939</td>\n",
       "      <td>0.055046</td>\n",
       "    </tr>\n",
       "    <tr>\n",
       "      <th>(82500.0, 90000.0]</th>\n",
       "      <td>0.048173</td>\n",
       "      <td>0.027523</td>\n",
       "    </tr>\n",
       "    <tr>\n",
       "      <th>(90000.0, 97500.0]</th>\n",
       "      <td>0.039867</td>\n",
       "      <td>0.041284</td>\n",
       "    </tr>\n",
       "    <tr>\n",
       "      <th>(97500.0, 105000.0]</th>\n",
       "      <td>0.013672</td>\n",
       "      <td>0.004587</td>\n",
       "    </tr>\n",
       "  </tbody>\n",
       "</table>\n",
       "</div>"
      ],
      "text/plain": [
       "response                   No       Yes\n",
       "income_binned                          \n",
       "(-0.001, 7500.0]     0.270764  0.151376\n",
       "(7500.0, 15000.0]    0.019295  0.073394\n",
       "(15000.0, 22500.0]   0.060951  0.100917\n",
       "(22500.0, 30000.0]   0.106185  0.165138\n",
       "(30000.0, 37500.0]   0.074879  0.068807\n",
       "(37500.0, 45000.0]   0.071684  0.059633\n",
       "(45000.0, 52500.0]   0.060567  0.041284\n",
       "(52500.0, 60000.0]   0.063123  0.073394\n",
       "(60000.0, 67500.0]   0.061334  0.073394\n",
       "(67500.0, 75000.0]   0.060567  0.064220\n",
       "(75000.0, 82500.0]   0.048939  0.055046\n",
       "(82500.0, 90000.0]   0.048173  0.027523\n",
       "(90000.0, 97500.0]   0.039867  0.041284\n",
       "(97500.0, 105000.0]  0.013672  0.004587"
      ]
     },
     "metadata": {},
     "output_type": "display_data"
    },
    {
     "data": {
      "image/png": "[encoded data removed]",
      "text/plain": [
       "<Figure size 432x288 with 1 Axes>"
      ]
     },
     "metadata": {
      "needs_background": "light"
     },
     "output_type": "display_data"
    }
   ],
   "source": [
    "bins4 = np.arange(0,df['income'].max() + 7500, 7500)\n",
    "\n",
    "df['income_binned'] = pd.cut(df['income'], bins4, include_lowest=True)\n",
    "\n",
    "df_rr_by_income = pd.crosstab(df['response'], df['income_binned']).apply(lambda x: x/x.sum(), axis=1).T\n",
    "\n",
    "display(df_rr_by_income)\n",
    "\n",
    "plot4=df_rr_by_income['Yes'].plot(kind='bar', title=\"Response rate by Income\", \n",
    "                       xlabel='Income', ylabel='Response rate')\n",
    "\n",
    "plt.show()\n",
    "\n",
    "#df_rr_by_income = pd.crosstab(df['income'], df['response']).apply(lambda x: x/x.sum(), axis=1)\n",
    "\n",
    "#df_rr_by_income.plot(kind='bar', title=\"Response rate by Income\", \n",
    "                      # xlabel='Income', ylabel='Response rate')"
   ]
  },
  {
   "cell_type": "code",
   "execution_count": 16,
   "id": "9a25dae6",
   "metadata": {},
   "outputs": [],
   "source": [
    "# multiple plots in the same space\n",
    "\n",
    "#fig, axes = plt.subplots(1, 4, constrained_layout=True,)\n",
    "#You pass these two dummy variables\n",
    "#Inside the parenthesis you write the rows x columns\n",
    "\n",
    "#df['response'].value_counts().plot(kind='bar', title=\"Total number of responses\", figsize=(6,6), ax=axes[0])\n",
    "#df_rr_by_sales[0].plot(kind='bar', title=\"Response rate by Sales channel\", \n",
    "#                       xlabel='Sales channel', ylabel='Response rate', figsize=(6,6), ax=axes[1])\n",
    "#df_rr_by_tot_claim['Yes'].plot(kind='bar', title=\"Response rate by Total claim amount\", \n",
    " #                      xlabel='Total Claim Amount', ylabel='Response rate',figsize=(6,6), ax=axes[2])\n",
    "#df_rr_by_income['Yes'].plot(kind='bar', title=\"Response rate by Income\", \n",
    " #                      xlabel='Income', ylabel='Response rate', figsize=(6,6),ax=axes[3])\n",
    "\n",
    "#plt.show()"
   ]
  },
  {
   "cell_type": "code",
   "execution_count": null,
   "id": "30743f1a",
   "metadata": {},
   "outputs": [],
   "source": []
  }
 ],
 "metadata": {
  "kernelspec": {
   "display_name": "Python 3",
   "language": "python",
   "name": "python3"
  },
  "language_info": {
   "codemirror_mode": {
    "name": "ipython",
    "version": 3
   },
   "file_extension": ".py",
   "mimetype": "text/x-python",
   "name": "python",
   "nbconvert_exporter": "python",
   "pygments_lexer": "ipython3",
   "version": "3.8.8"
  }
 },
 "nbformat": 4,
 "nbformat_minor": 5
}
